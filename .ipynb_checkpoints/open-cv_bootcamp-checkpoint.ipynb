{
 "cells": [
  {
   "cell_type": "markdown",
   "id": "6e700709",
   "metadata": {},
   "source": [
    "## Basic image Manipulation"
   ]
  },
  {
   "cell_type": "code",
   "execution_count": 1,
   "id": "7b0350b8",
   "metadata": {},
   "outputs": [],
   "source": [
    "import cv2 as cv\n",
    "import numpy as np\n",
    "from matplotlib import pyplot as plt"
   ]
  },
  {
   "cell_type": "markdown",
   "id": "8a02be22",
   "metadata": {},
   "source": [
    "### 1. image resizing"
   ]
  },
  {
   "cell_type": "code",
   "execution_count": 3,
   "id": "c5c432c9-e684-4982-a37d-6d3f05b836d7",
   "metadata": {},
   "outputs": [],
   "source": [
    "img = cv.imread(\"tim-mossholder.jpg\")\n"
   ]
  },
  {
   "cell_type": "code",
   "execution_count": 10,
   "id": "ef540192",
   "metadata": {},
   "outputs": [
    {
     "name": "stderr",
     "output_type": "stream",
     "text": [
      "The system cannot find the path specified.\n"
     ]
    }
   ],
   "source": [
    "!cd ~/DEEP_TECH/"
   ]
  },
  {
   "cell_type": "code",
   "execution_count": 5,
   "id": "57fc7991",
   "metadata": {},
   "outputs": [
    {
     "name": "stdout",
     "output_type": "stream",
     "text": [
      "None\n"
     ]
    }
   ],
   "source": [
    "print(img)"
   ]
  },
  {
   "cell_type": "code",
   "execution_count": null,
   "id": "3eeb102b",
   "metadata": {},
   "outputs": [],
   "source": []
  }
 ],
 "metadata": {
  "kernelspec": {
   "display_name": "Python 3",
   "language": "python",
   "name": "python3"
  },
  "language_info": {
   "codemirror_mode": {
    "name": "ipython",
    "version": 3
   },
   "file_extension": ".py",
   "mimetype": "text/x-python",
   "name": "python",
   "nbconvert_exporter": "python",
   "pygments_lexer": "ipython3",
   "version": "3.13.2"
  },
  "widgets": {
   "application/vnd.jupyter.widget-state+json": {
    "state": {},
    "version_major": 2,
    "version_minor": 0
   }
  }
 },
 "nbformat": 4,
 "nbformat_minor": 5
}
