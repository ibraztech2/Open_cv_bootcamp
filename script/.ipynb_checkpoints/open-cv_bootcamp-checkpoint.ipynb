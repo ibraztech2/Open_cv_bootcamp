{
 "cells": [
  {
   "cell_type": "markdown",
   "id": "867351b8-2bf6-4603-a6ce-82c60b1c7476",
   "metadata": {},
   "source": [
    "## Day 1: Basic image Manipulation"
   ]
  },
  {
   "cell_type": "code",
   "execution_count": null,
   "id": "7b0350b8",
   "metadata": {},
   "outputs": [],
   "source": [
    "import cv2 as cv\n",
    "import numpy as np\n",
    "from matplotlib import pyplot as plt\n",
    "\n",
    "from zipfile import ZipFile\n",
    "from urllib.request import urlretrieve\n",
    "import os\n",
    "\n",
    "%matplotlib inline"
   ]
  },
  {
   "cell_type": "code",
   "execution_count": null,
   "id": "37712cd0-281a-42eb-aa90-6ac6cbc67ce8",
   "metadata": {},
   "outputs": [],
   "source": [
    "def download_and_unzip(url, save_path):\n",
    "    print(f\"Downloading and extracting assests....\", end=\"\")\n",
    "\n",
    "    # Downloading zip file using urllib package.\n",
    "    urlretrieve(url, save_path)\n",
    "\n",
    "    try:\n",
    "        # Extracting zip file using the zipfile package.\n",
    "        with ZipFile(save_path) as z:\n",
    "            # Extract ZIP file contents in the same directory.\n",
    "            z.extractall(os.path.split(save_path)[0])\n",
    "\n",
    "        print(\"Done\")\n",
    "\n",
    "    except Exception as e:\n",
    "        print(\"\\nInvalid file.\", e)"
   ]
  },
  {
   "cell_type": "code",
   "execution_count": null,
   "id": "1dba5d0a-9734-4f18-9f00-d22f409c8724",
   "metadata": {},
   "outputs": [],
   "source": [
    "\"\"\"URL = r\"https://www.dropbox.com/s/0oe92zziik5mwhf/opencv_bootcamp_assets_NB4.zip?dl=1\"\n",
    "\n",
    "asset_zip_path = os.path.join(os.getcwd(), \"opencv_bootcamp_assets_NB4.zip\")\n",
    "\n",
    "# Download if assest ZIP does not exists.\n",
    "if not os.path.exists(asset_zip_path):\n",
    "    download_and_unzip(URL, asset_zip_path)\n",
    "\"\"\""
   ]
  },
  {
   "cell_type": "markdown",
   "id": "8a02be22",
   "metadata": {},
   "source": [
    "### 1. image resizing"
   ]
  },
  {
   "cell_type": "code",
   "execution_count": null,
   "id": "c5c432c9-e684-4982-a37d-6d3f05b836d7",
   "metadata": {},
   "outputs": [],
   "source": [
    "img_path = \"opencv_image/\"\n",
    "img = cv.imread(f\"{img_path}New_Zealand_Coast.jpg\")\n",
    "img = cv.cvtColor(img, cv.COLOR_BGR2RGB)\n"
   ]
  },
  {
   "cell_type": "code",
   "execution_count": null,
   "id": "57fc7991",
   "metadata": {},
   "outputs": [],
   "source": [
    "# convert image data to array\n",
    "\n",
    "img = np.array(img)\n",
    "plt.imshow(img)\n",
    "\n",
    "plt.show()"
   ]
  },
  {
   "cell_type": "code",
   "execution_count": null,
   "id": "7ff95a45-0b1d-414a-b5b8-50f2748898d3",
   "metadata": {
    "scrolled": true
   },
   "outputs": [],
   "source": [
    "# manually cropping using pixel manipulation\n",
    "\n",
    "cropped_img = img[0:400:3,100:400:3]\n",
    "plt.imshow(cropped_img)"
   ]
  },
  {
   "cell_type": "markdown",
   "id": "f3da01f5-0a90-4417-8652-0d903e0b68ad",
   "metadata": {},
   "source": [
    "### 2. Resize image"
   ]
  },
  {
   "cell_type": "code",
   "execution_count": null,
   "id": "fae06f3d-8363-42d3-a7ec-7932af0194ea",
   "metadata": {},
   "outputs": [],
   "source": [
    "dsize= (2000,3000)\n",
    "resized_img = cv.resize(cropped_img,dsize)"
   ]
  },
  {
   "cell_type": "markdown",
   "id": "8bff1af9-63c1-4554-bbb4-f4bfb3527897",
   "metadata": {},
   "source": [
    "### 3. Flipping image"
   ]
  },
  {
   "cell_type": "code",
   "execution_count": null,
   "id": "accf7ba7-96b6-48ee-aeb8-2ebdba39599d",
   "metadata": {},
   "outputs": [],
   "source": [
    "# flipping image using flip method\n",
    "\n",
    "horz_flipped_img = cv.flip(resized_img,1) # flip the image horizontal direction\n",
    "vert_flipped_img = cv.flip(resized_img,0) # flip the image in vertical direction\n",
    "both_flipped_img = cv.flip(resized_img,-1) # flip the image in both direction\n",
    "\n",
    "#show the images\n",
    "plt.figure(figsize=(18,5))\n",
    "plt.subplot(141);plt.imshow(horz_flipped_img);plt.title(\"Horizontal Flip\");\n",
    "plt.subplot(142);plt.imshow(vert_flipped_img);plt.title(\"Vertical Flip\");\n",
    "plt.subplot(143);plt.imshow(both_flipped_img);plt.title(\"Both Flipped\");\n",
    "\n",
    "plt.show()"
   ]
  },
  {
   "cell_type": "markdown",
   "id": "9453eb5f-3dac-4728-ac45-97ff0769b186",
   "metadata": {},
   "source": [
    "##  Day 2. Image Annotation"
   ]
  },
  {
   "cell_type": "code",
   "execution_count": null,
   "id": "0ec055a3-4835-435c-b78b-988150887eeb",
   "metadata": {},
   "outputs": [],
   "source": [
    "# Funtion that draw shape on an image\n",
    "\"\"\"\n",
    "to draw a shape we used different method form cv. the following are the crucial method for each shappe\n",
    "-------> cv. \n",
    "                rect : Draw Rectangle with the adjacent cordinate point given  as a tuple parameter \n",
    "                line : Draw a line with start and stop cordiante given as a parameter\n",
    "                circle : circle with radius and center passed  param\n",
    "\"\"\"\n",
    "\n",
    "def draw_shape(img,shape,point1_center=None,point2_radius=None,colour=(0,0,255),thickness=10,lineType=cv.LINE_AA):\n",
    "    image = img.copy() # copy the original image\n",
    "    if shape == \"line\":\n",
    "        cv.line(image,point1_center,point2_radius,colour,thickness,lineType)\n",
    "    elif shape == \"circle\":\n",
    "        cv.circle(image,point1_center,point2_radius,colour,thickness,lineType)\n",
    "    elif shape == \"rectangle\":\n",
    "        cv.rectangle(image,point1_center,point2_radius,colour,thickness,lineType)\n",
    "    else:\n",
    "        print(\"error\")\n",
    "\n",
    "    plt.imshow(image)\n",
    "    plt.show()\n",
    "    return(image) # return the image \n",
    "        \n",
    "\n",
    "\n",
    "\n",
    "draw_shape(img,\"line\",(1000,2000),(5000,2000),8)\n",
    "draw_shape(img,\"circle\",(3200,2500),800,8) \n",
    "draw_shape(img,\"rectangle\",(1000,2000),(5000,5000),8) \n"
   ]
  },
  {
   "cell_type": "markdown",
   "id": "796dc7e3-2b76-46dd-a755-15e078f4f8a3",
   "metadata": {},
   "source": [
    "## Day 3: Image Ehancement"
   ]
  },
  {
   "cell_type": "markdown",
   "id": "3e9ced43-078f-4572-bd78-69cdf899548d",
   "metadata": {},
   "source": [
    "### Contrast and brightness"
   ]
  },
  {
   "cell_type": "code",
   "execution_count": null,
   "id": "a4e48b0e-dd00-4e0c-bb8f-092837635191",
   "metadata": {},
   "outputs": [],
   "source": [
    " \"\"\"\n",
    " change in contrast and brightness takes advantage of the pixelwise of image to ehance the image through Multiplication and Brughtness respectively\n",
    " \"\"\"\n",
    "\n",
    "def enhance_image(img, enhancement_type=\"Brightness\", scale_factor=1, direction=\"up\"):\n",
    "\n",
    "    \"\"\"\n",
    "    change in contrast and brightness takes advantage of the pixelwise of image to ehance the image through Multiplication and Brughtness respectively\n",
    "    image's contrast and brightness can either be increase or decrease when  up or down is passed to the direction factor parameter\n",
    "     \"\"\"\n",
    "    \n",
    "    \n",
    "    image = img.copy() # retain the original image\n",
    "    image = np.array(image, dtype=np.uint8)\n",
    "\n",
    "    if enhancement_type == \"Brightness\":  # \n",
    "        factor_matrix = np.full(image.shape, scale_factor, dtype=np.uint8)\n",
    "\n",
    "        if direction == \"up\":\n",
    "            image = cv.add(image, factor_matrix)\n",
    "        elif direction == \"down\":\n",
    "            image = cv.subtract(image, factor_matrix)\n",
    "\n",
    "    elif enhancement_type == \"contrast\":\n",
    "        if direction == \"up\":\n",
    "            image = cv.convertScaleAbs(image, alpha=scale_factor, beta=0)\n",
    "        elif direction == \"down\":\n",
    "            image = cv.convertScaleAbs(image, alpha=1.0/scale_factor, beta=0)\n",
    "\n",
    "    # Convert BGR to RGB if needed for matplotlib\n",
    "    image_rgb = cv.cvtColor(image, cv.COLOR_BGR2RGB)\n",
    "\n",
    "    plt.figure(figsize=(10, 10))\n",
    "    plt.imshow(image_rgb)\n",
    "    plt.title(f\"{enhancement_type} {direction}\")\n",
    "    plt.show()\n",
    "\n",
    "    return image\n"
   ]
  },
  {
   "cell_type": "code",
   "execution_count": null,
   "id": "40d01491-478d-4726-8553-9d7d958357d6",
   "metadata": {},
   "outputs": [],
   "source": [
    "enhance_image(img, enhancement_type=\"Brightness\", scale_factor=50, direction=\"up\")"
   ]
  },
  {
   "cell_type": "markdown",
   "id": "aacd715b-8c68-4aa8-ba92-bff422c2be5b",
   "metadata": {},
   "source": [
    "### Image Thresholding"
   ]
  },
  {
   "cell_type": "code",
   "execution_count": null,
   "id": "5ef39933-fba0-4974-82ea-2fa1824cda04",
   "metadata": {},
   "outputs": [],
   "source": [
    "\n",
    "img = cv.imread(\"building-windows.jpg\")"
   ]
  },
  {
   "cell_type": "code",
   "execution_count": null,
   "id": "943d5c8f-4480-4f06-bccc-36d75a416393",
   "metadata": {},
   "outputs": [],
   "source": [
    "plt.imshow(img)\n",
    "plt.show()"
   ]
  },
  {
   "cell_type": "code",
   "execution_count": null,
   "id": "66871c17-d185-44a9-ba9c-19aef1e30683",
   "metadata": {},
   "outputs": [],
   "source": [
    "img_read = cv.imread(\"building-windows.jpg\", cv.IMREAD_GRAYSCALE)\n",
    "retval, img_thresh = cv.threshold(img_read, 100, 255, cv.THRESH_BINARY)\n",
    "\n",
    "# Show the images\n",
    "plt.figure(figsize=[18, 5])\n",
    "\n",
    "plt.subplot(121);plt.imshow(img_read, cmap=\"gray\");  plt.title(\"Original\")\n",
    "plt.subplot(122);plt.imshow(img_thresh, cmap=\"gray\");plt.title(\"Thresholded\")\n",
    "\n",
    "print(img_thresh.shape)"
   ]
  },
  {
   "cell_type": "code",
   "execution_count": null,
   "id": "de0cabb5-8a82-490a-a03e-2e216fd6a523",
   "metadata": {},
   "outputs": [],
   "source": [
    "img = cv.imread(f\"{img_path}Piano_Sheet_Music.png\", cv.IMREAD_GRAYSCALE)\n",
    "\n"
   ]
  },
  {
   "cell_type": "code",
   "execution_count": null,
   "id": "be7fe75e-14a4-4813-8bab-18a656e4e1c5",
   "metadata": {},
   "outputs": [],
   "source": [
    "# Gloal Thresholding\n",
    "retval,img_thresh1 = cv.threshold(img,50,255,cv.THRESH_BINARY)\n",
    "retval,img_thresh2 = cv.threshold(img,150,255,cv.THRESH_BINARY)\n",
    "\n",
    "# Adaptive Thresholding\n",
    "img_thresh3 = cv.adaptiveThreshold(img,255, cv.ADAPTIVE_THRESH_MEAN_C,cv.THRESH_BINARY,11,5)\n",
    "\n",
    "img_list = [img_thresh1,img_thresh2,img_thresh3]\n",
    "img_title = [\"global thresholding1\",\"global thresholding2\",\"Adaptive thresholding\"]\n",
    "plt.figure(figsize=(10,8))\n",
    "for idx,im in enumerate(img_list):\n",
    "    plt.subplot(1,3,idx+1);plt.title(img_title[idx])\n",
    "    plt.imshow(im,cmap=\"gray\")\n",
    "\n",
    "plt.show()\n"
   ]
  },
  {
   "cell_type": "code",
   "execution_count": null,
   "id": "7180d1df-76c0-4abd-ac2c-cf111bac3976",
   "metadata": {
    "scrolled": true
   },
   "outputs": [],
   "source": [
    "# Change Background\n",
    "\n",
    "img_bgra = cv.imread(f\"{img_path}coca-cola-logo.png\")\n",
    "\n",
    "fg_img = cv.cvtColor(img_bgra, cv.COLOR_BGR2RGB)\n",
    "\n",
    "\n",
    "fg_logo_w = fg_img.shape[0]\n",
    "fg_logo_h = fg_img.shape[1]\n",
    "\n",
    "\n",
    "img_bgr = cv.imread(f\"{img_path}checkerboard_color.png\")\n",
    "bg_img = cv.cvtColor(img_bgr, cv.COLOR_BGR2RGB)\n",
    "\n",
    "\n",
    "bg_logo_w = bg_img.shape[0]\n",
    "bg_logo_h = img_rgb.shape[1]\n",
    "\n",
    "#Set desired width (logo_w) and maintain image aspect ratio\n",
    "aspect_ratio = fg_logo_w / bg_logo_w\n",
    "dim = (fg_logo_w, int(bg_img.shape[0] * aspect_ratio))\n",
    "\n",
    "bg_img = cv.resize(bg_img, dim, interpolation=cv.INTER_AREA)\n",
    "\n",
    "plt.imshow(bg_img)"
   ]
  },
  {
   "cell_type": "code",
   "execution_count": null,
   "id": "809e1148-ed39-4f22-9640-e3a064c3ee1b",
   "metadata": {},
   "outputs": [],
   "source": [
    "# Create image mask\n",
    "fg_img_gray = cv.cvtColor(fg_img,cv.COLOR_RGB2GRAY)\n",
    "retv,image_mask = cv.threshold(fg_img_gray,127,255,cv.THRESH_BINARY)\n",
    "image_mask_inv = cv.bitwise_not(image_mask)\n",
    "plt.imshow(image_mask_inv,cmap=\"gray\")"
   ]
  },
  {
   "cell_type": "code",
   "execution_count": null,
   "id": "056a9d58-2c8d-43aa-b7df-4bec289168ce",
   "metadata": {},
   "outputs": [],
   "source": [
    "img_background = cv.bitwise_and(bg_img,bg_img,mask=image_mask)\n",
    "plt.imshow(img_background)"
   ]
  },
  {
   "cell_type": "code",
   "execution_count": null,
   "id": "b091ba91-b83c-48f3-8023-b0491db84df8",
   "metadata": {},
   "outputs": [],
   "source": [
    "isolated_fg = cv.bitwise_and(fg_img,fg_img,mask=image_mask_inv)\n",
    "plt.imshow(isolated_fg)"
   ]
  },
  {
   "cell_type": "code",
   "execution_count": null,
   "id": "c04c0115-2867-4a89-955d-b661c9dbf90f",
   "metadata": {},
   "outputs": [],
   "source": [
    "result = cv.add(isolated_fg,img_background)\n",
    "plt.imshow(result)"
   ]
  },
  {
   "cell_type": "markdown",
   "id": "24f1b854-1820-43d0-9ee8-738e3586adbf",
   "metadata": {},
   "source": [
    "## Day 5"
   ]
  },
  {
   "cell_type": "code",
   "execution_count": null,
   "id": "7f2d402d-4b05-47f2-a8dd-d8468e32a456",
   "metadata": {},
   "outputs": [],
   "source": [
    "import sys\n",
    "s=0\n",
    "\n",
    "if len(sys.argv)>1:\n",
    "    s = sys.argv[1]  # Use default camera\n",
    "\n",
    "video = cv.VideoCapture(s)\n",
    "\n",
    "win_name = 'Camera Preview'\n",
    "cv.namedWindow(win_name, cv.WINDOW_NORMAL)\n",
    "\n",
    "while cv.waitkey(1) != 27:\n",
    "    retval, frame = video.read()\n",
    "    if not retval:\n",
    "        break\n",
    "    cv.imshow(win_name,frame)\n",
    "video.release()\n",
    "cv.destroyWindow(win_name)\n"
   ]
  },
  {
   "cell_type": "code",
   "execution_count": null,
   "id": "6d39a214-31fa-4112-ab66-b04efc2954fb",
   "metadata": {},
   "outputs": [],
   "source": [
    "import cv2 as cv\n",
    "import sys\n",
    "\n",
    "s = 0  # default: use webcam 0\n",
    "\n",
    "# If a command-line argument is passed, use it as source\n",
    "if len(sys.argv) > 1:\n",
    "    s = sys.argv[1]\n",
    "    try:\n",
    "        s = int(s)  # cast to int if webcam index (e.g., 0 or 1)\n",
    "    except ValueError:\n",
    "        pass  # keep as string if it's a filename or URL\n",
    "\n",
    "video = cv.VideoCapture(s)\n",
    "\n",
    "win_name = 'Camera Preview'\n",
    "cv.namedWindow(win_name, cv.WINDOW_NORMAL)\n",
    "\n",
    "while cv.waitKey(1) != 27:  # Exit on Esc key\n",
    "    retval, frame = video.read()\n",
    "    if not retval:\n",
    "        break\n",
    "    cv.imshow(win_name, frame)\n",
    "\n",
    "video.release()\n",
    "cv.destroyWindow(win_name)\n"
   ]
  },
  {
   "cell_type": "markdown",
   "id": "11196ce6-d9c5-41d7-be21-64d37c9449a4",
   "metadata": {},
   "source": [
    "## Day 5 "
   ]
  },
  {
   "cell_type": "code",
   "execution_count": null,
   "id": "6328132b-63bb-44d0-b1a5-3e3643c987f3",
   "metadata": {},
   "outputs": [],
   "source": [
    "import os\n",
    "import cv2\n",
    "import matplotlib.pyplot as plt\n",
    "\n",
    "from zipfile import ZipFile\n",
    "from urllib.request import urlretrieve\n",
    "\n",
    "from IPython.display import YouTubeVideo, display, HTML\n",
    "from base64 import b64encode"
   ]
  },
  {
   "cell_type": "code",
   "execution_count": null,
   "id": "ac51c5f3-7349-44fd-a5cf-4116281fc86e",
   "metadata": {},
   "outputs": [],
   "source": [
    "def download_and_unzip(url, save_path):\n",
    "    print(f\"Downloading and extracting assests....\", end=\"\")\n",
    "\n",
    "    # Downloading zip file using urllib package.\n",
    "    urlretrieve(url, save_path)\n",
    "\n",
    "    try:\n",
    "        # Extracting zip file using the zipfile package.\n",
    "        with ZipFile(save_path) as z:\n",
    "            # Extract ZIP file contents in the same directory.\n",
    "            z.extractall(os.path.split(save_path)[0])\n",
    "\n",
    "        print(\"Done\")\n",
    "\n",
    "    except Exception as e:\n",
    "        print(\"\\nInvalid file.\", e)"
   ]
  },
  {
   "cell_type": "code",
   "execution_count": null,
   "id": "6e18a8a4-dbac-4ce0-827d-bc8a2f14de61",
   "metadata": {},
   "outputs": [],
   "source": [
    "URL = r\"https://www.dropbox.com/s/p8h7ckeo2dn1jtz/opencv_bootcamp_assets_NB6.zip?dl=1\"\n",
    "\n",
    "asset_zip_path = os.path.join(os.getcwd(), f\"opencv_bootcamp_assets_NB6.zip\")\n",
    "\n",
    "# Download if assest ZIP does not exists. \n",
    "if not os.path.exists(asset_zip_path):\n",
    "    download_and_unzip(URL, asset_zip_path)   "
   ]
  },
  {
   "cell_type": "code",
   "execution_count": null,
   "id": "7dbe40cb-0512-4ed6-858f-94e780258144",
   "metadata": {},
   "outputs": [],
   "source": [
    "source = \"race_car.mp4\" # source =  for webcam\n"
   ]
  },
  {
   "cell_type": "code",
   "execution_count": null,
   "id": "4853fb65-8177-478e-8c6f-8d08803427d4",
   "metadata": {},
   "outputs": [],
   "source": [
    "!python opencv_day_5.py"
   ]
  },
  {
   "cell_type": "markdown",
   "id": "ccae0fa3-e677-403e-81ba-4205efdf3c5e",
   "metadata": {},
   "source": [
    "## Day 6"
   ]
  },
  {
   "cell_type": "code",
   "execution_count": null,
   "id": "6b9e393f-5980-4315-8fb6-d254ddcacffa",
   "metadata": {},
   "outputs": [],
   "source": [
    "# Download Asset"
   ]
  },
  {
   "cell_type": "code",
   "execution_count": 8,
   "id": "997c15df-97f4-425c-bda9-b050bba462ca",
   "metadata": {},
   "outputs": [
    {
     "name": "stderr",
     "output_type": "stream",
     "text": [
      "[ WARN:0@2.456] global cap.cpp:781 cv::VideoWriter::open VIDEOIO(CV_IMAGES): raised OpenCV exception:\n",
      "\n",
      "OpenCV(4.11.0) D:\\a\\opencv-python\\opencv-python\\opencv\\modules\\videoio\\src\\cap_images.cpp:415: error: (-215:Assertion failed) !filename_pattern.empty() in function 'cv::CvVideoWriter_Images::CvVideoWriter_Images'\n",
      "\n",
      "\n"
     ]
    }
   ],
   "source": [
    "!python opencv_day_6.py"
   ]
  },
  {
   "cell_type": "markdown",
   "id": "a5585631-66c0-4e74-85c0-53a060906af3",
   "metadata": {},
   "source": [
    "## Day 7"
   ]
  },
  {
   "cell_type": "code",
   "execution_count": null,
   "id": "5d1b3aa6-405a-47ac-85d6-776eadeab72c",
   "metadata": {},
   "outputs": [],
   "source": [
    "!python opencv_day_7.py"
   ]
  },
  {
   "cell_type": "code",
   "execution_count": null,
   "id": "f13a554b-6779-4a5b-a1f2-e658ef157943",
   "metadata": {},
   "outputs": [],
   "source": []
  }
 ],
 "metadata": {
  "kernelspec": {
   "display_name": "Python 3 (ipykernel)",
   "language": "python",
   "name": "python3"
  },
  "language_info": {
   "codemirror_mode": {
    "name": "ipython",
    "version": 3
   },
   "file_extension": ".py",
   "mimetype": "text/x-python",
   "name": "python",
   "nbconvert_exporter": "python",
   "pygments_lexer": "ipython3",
   "version": "3.10.8"
  },
  "widgets": {
   "application/vnd.jupyter.widget-state+json": {
    "state": {},
    "version_major": 2,
    "version_minor": 0
   }
  }
 },
 "nbformat": 4,
 "nbformat_minor": 5
}
